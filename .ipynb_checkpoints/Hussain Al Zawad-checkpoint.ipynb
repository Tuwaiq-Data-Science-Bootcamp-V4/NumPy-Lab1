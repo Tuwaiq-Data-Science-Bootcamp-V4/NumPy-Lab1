{
 "cells": [
  {
   "cell_type": "code",
   "execution_count": 1,
   "id": "212fd1ba",
   "metadata": {},
   "outputs": [],
   "source": [
    "import numpy as np"
   ]
  },
  {
   "cell_type": "markdown",
   "id": "10803eb0",
   "metadata": {},
   "source": [
    "## Q#1: Create x array with elements equal to 1."
   ]
  },
  {
   "cell_type": "code",
   "execution_count": 2,
   "id": "3307454f",
   "metadata": {},
   "outputs": [
    {
     "data": {
      "text/plain": [
       "array([1., 1., 1.])"
      ]
     },
     "execution_count": 2,
     "metadata": {},
     "output_type": "execute_result"
    }
   ],
   "source": [
    "x = np.ones(3)\n",
    "x"
   ]
  },
  {
   "cell_type": "markdown",
   "id": "7795306d",
   "metadata": {},
   "source": [
    "## Q#2: Create y array with elements equal to 0."
   ]
  },
  {
   "cell_type": "code",
   "execution_count": 3,
   "id": "9550b063",
   "metadata": {},
   "outputs": [
    {
     "data": {
      "text/plain": [
       "array([0., 0., 0.])"
      ]
     },
     "execution_count": 3,
     "metadata": {},
     "output_type": "execute_result"
    }
   ],
   "source": [
    "y = np.zeros(3)\n",
    "y"
   ]
  },
  {
   "cell_type": "markdown",
   "id": "cde6a939",
   "metadata": {},
   "source": [
    "## Q#3: Add x and y arrays."
   ]
  },
  {
   "cell_type": "code",
   "execution_count": 4,
   "id": "71070d1d",
   "metadata": {},
   "outputs": [
    {
     "data": {
      "text/plain": [
       "array([1., 1., 1.])"
      ]
     },
     "execution_count": 4,
     "metadata": {},
     "output_type": "execute_result"
    }
   ],
   "source": [
    "x + y"
   ]
  },
  {
   "cell_type": "markdown",
   "id": "ed854f4c",
   "metadata": {},
   "source": [
    "## Q#4: Print x array characteristics (e.g: dimension, shape, size, type)."
   ]
  },
  {
   "cell_type": "code",
   "execution_count": 5,
   "id": "32627c83",
   "metadata": {},
   "outputs": [
    {
     "data": {
      "text/plain": [
       "numpy.ndarray"
      ]
     },
     "execution_count": 5,
     "metadata": {},
     "output_type": "execute_result"
    }
   ],
   "source": [
    "x.shape\n",
    "x.ndim\n",
    "x.size\n",
    "type(x)"
   ]
  },
  {
   "cell_type": "markdown",
   "id": "dbd46a73",
   "metadata": {},
   "source": [
    "## Q#5: Create a 2D array \"called w\" as the following:\n",
    "\n",
    "|       |          |\n",
    "| ----- | -------- |\n",
    "| 11    | 12       |\n",
    "| 13    | 14       |\n",
    "| 15    | 16       |\n"
   ]
  },
  {
   "cell_type": "code",
   "execution_count": 6,
   "id": "b9c7bbb0",
   "metadata": {},
   "outputs": [
    {
     "data": {
      "text/plain": [
       "array([[11, 12],\n",
       "       [13, 14],\n",
       "       [15, 16]])"
      ]
     },
     "execution_count": 6,
     "metadata": {},
     "output_type": "execute_result"
    }
   ],
   "source": [
    "w = np.arange(11,17).reshape(3,2)\n",
    "w"
   ]
  },
  {
   "cell_type": "markdown",
   "id": "0e62bd09",
   "metadata": {},
   "source": [
    "## Q#6: Create z array contains the numbers from 1 to 3."
   ]
  },
  {
   "cell_type": "code",
   "execution_count": 7,
   "id": "cee8aba0",
   "metadata": {},
   "outputs": [
    {
     "data": {
      "text/plain": [
       "array([1, 2, 3])"
      ]
     },
     "execution_count": 7,
     "metadata": {},
     "output_type": "execute_result"
    }
   ],
   "source": [
    "z = np.arange(1,4)\n",
    "z"
   ]
  },
  {
   "cell_type": "markdown",
   "id": "32b00711",
   "metadata": {},
   "source": [
    "## Q#7: Combine the arrays z and w in horizontal way then save it in a new variable \"newArray\"."
   ]
  },
  {
   "cell_type": "code",
   "execution_count": 8,
   "id": "d218f892",
   "metadata": {},
   "outputs": [
    {
     "data": {
      "text/plain": [
       "array([[11, 12,  1],\n",
       "       [13, 14,  2],\n",
       "       [15, 16,  3]])"
      ]
     },
     "execution_count": 8,
     "metadata": {},
     "output_type": "execute_result"
    }
   ],
   "source": [
    "newArray = np.hstack((w,z.reshape(3,1)))\n",
    "newArray"
   ]
  },
  {
   "cell_type": "markdown",
   "id": "7e009910",
   "metadata": {},
   "source": [
    "## Q#8: Print all elements of \"newArray\" using the loop."
   ]
  },
  {
   "cell_type": "code",
   "execution_count": 9,
   "id": "abbed923",
   "metadata": {},
   "outputs": [
    {
     "name": "stdout",
     "output_type": "stream",
     "text": [
      "11\n",
      "12\n",
      "1\n",
      "13\n",
      "14\n",
      "2\n",
      "15\n",
      "16\n",
      "3\n"
     ]
    }
   ],
   "source": [
    "for i in newArray:\n",
    "    for num in i:\n",
    "        print(num)"
   ]
  },
  {
   "cell_type": "markdown",
   "id": "011c6d2d",
   "metadata": {},
   "source": [
    "## Q#9: Reverse the columns and rows of \"newArray\"."
   ]
  },
  {
   "cell_type": "code",
   "execution_count": 10,
   "id": "12e3f0db",
   "metadata": {},
   "outputs": [
    {
     "data": {
      "text/plain": [
       "array([[11, 13, 15],\n",
       "       [12, 14, 16],\n",
       "       [ 1,  2,  3]])"
      ]
     },
     "execution_count": 10,
     "metadata": {},
     "output_type": "execute_result"
    }
   ],
   "source": [
    "newArray.transpose()"
   ]
  },
  {
   "cell_type": "markdown",
   "id": "f40b57c3",
   "metadata": {},
   "source": [
    "## Q#10: Decrement all elements of \"newArray\" with 1."
   ]
  },
  {
   "cell_type": "code",
   "execution_count": 11,
   "id": "aea004df",
   "metadata": {},
   "outputs": [
    {
     "data": {
      "text/plain": [
       "array([[10, 11,  0],\n",
       "       [12, 13,  1],\n",
       "       [14, 15,  2]])"
      ]
     },
     "execution_count": 11,
     "metadata": {},
     "output_type": "execute_result"
    }
   ],
   "source": [
    "newArray -=1\n",
    "newArray"
   ]
  },
  {
   "cell_type": "markdown",
   "id": "8901e8be",
   "metadata": {},
   "source": [
    "## Q#11: Find smallest and biggest values in \"newArray\"."
   ]
  },
  {
   "cell_type": "code",
   "execution_count": 16,
   "id": "4ea08613",
   "metadata": {},
   "outputs": [
    {
     "data": {
      "text/plain": [
       "0"
      ]
     },
     "execution_count": 16,
     "metadata": {},
     "output_type": "execute_result"
    },
    {
     "data": {
      "text/plain": [
       "15"
      ]
     },
     "execution_count": 16,
     "metadata": {},
     "output_type": "execute_result"
    }
   ],
   "source": [
    "smallest , largest = 0,0\n",
    "for i in newArray:\n",
    "    for num in i:\n",
    "        if num > largest:\n",
    "            largest = num \n",
    "        elif num < smallest:\n",
    "            smallest = num \n",
    "            \n",
    "smallest\n",
    "largest"
   ]
  },
  {
   "cell_type": "markdown",
   "id": "c5d5d4ca",
   "metadata": {},
   "source": [
    "## Q#12: Print the first row of \"newArray\" using indexing."
   ]
  },
  {
   "cell_type": "code",
   "execution_count": 17,
   "id": "73e3b5a5",
   "metadata": {},
   "outputs": [
    {
     "data": {
      "text/plain": [
       "array([10, 11,  0])"
      ]
     },
     "execution_count": 17,
     "metadata": {},
     "output_type": "execute_result"
    }
   ],
   "source": [
    "newArray[0]"
   ]
  },
  {
   "cell_type": "markdown",
   "id": "78f4d6c1",
   "metadata": {},
   "source": [
    "## Q#13: Print the number equals 12 of \"newArray\" using indexing."
   ]
  },
  {
   "cell_type": "code",
   "execution_count": 19,
   "id": "7ad660b7",
   "metadata": {},
   "outputs": [
    {
     "data": {
      "text/plain": [
       "12"
      ]
     },
     "execution_count": 19,
     "metadata": {},
     "output_type": "execute_result"
    }
   ],
   "source": [
    "newArray[1,0]"
   ]
  },
  {
   "cell_type": "markdown",
   "id": "932b5c3d",
   "metadata": {},
   "source": [
    "## Q#14: Print the numbers equal 0 and 13 of \"newArray\" using indexing."
   ]
  },
  {
   "cell_type": "code",
   "execution_count": 22,
   "id": "8c4e58db",
   "metadata": {},
   "outputs": [
    {
     "data": {
      "text/plain": [
       "array([[10, 11,  0],\n",
       "       [12, 13,  1],\n",
       "       [14, 15,  2]])"
      ]
     },
     "execution_count": 22,
     "metadata": {},
     "output_type": "execute_result"
    }
   ],
   "source": [
    "newArray"
   ]
  },
  {
   "cell_type": "code",
   "execution_count": 74,
   "id": "31fb5fd0",
   "metadata": {},
   "outputs": [
    {
     "data": {
      "text/plain": [
       "0"
      ]
     },
     "execution_count": 74,
     "metadata": {},
     "output_type": "execute_result"
    },
    {
     "data": {
      "text/plain": [
       "13"
      ]
     },
     "execution_count": 74,
     "metadata": {},
     "output_type": "execute_result"
    }
   ],
   "source": [
    "newArray[0,2]\n",
    "newArray[1,1]"
   ]
  },
  {
   "cell_type": "markdown",
   "id": "27e0f68e",
   "metadata": {},
   "source": [
    "## Q#15: Change the shape of \"newArray\" to (9,1)."
   ]
  },
  {
   "cell_type": "code",
   "execution_count": 49,
   "id": "35f224ad",
   "metadata": {},
   "outputs": [
    {
     "data": {
      "text/plain": [
       "array([[10],\n",
       "       [11],\n",
       "       [ 0],\n",
       "       [12],\n",
       "       [13],\n",
       "       [ 1],\n",
       "       [14],\n",
       "       [15],\n",
       "       [ 2]])"
      ]
     },
     "execution_count": 49,
     "metadata": {},
     "output_type": "execute_result"
    }
   ],
   "source": [
    "newArray.reshape(9,1)"
   ]
  },
  {
   "cell_type": "markdown",
   "id": "e6d104c5",
   "metadata": {},
   "source": [
    "## Q#16: Change the shape of \"newArray\" to (3,2)."
   ]
  },
  {
   "cell_type": "code",
   "execution_count": null,
   "id": "724d51d5",
   "metadata": {},
   "outputs": [],
   "source": [
    "newArray.reshape(3,2)"
   ]
  },
  {
   "cell_type": "markdown",
   "id": "09567fdc",
   "metadata": {},
   "source": [
    "# Well Done 🎉"
   ]
  }
 ],
 "metadata": {
  "kernelspec": {
   "display_name": "Python 3 (ipykernel)",
   "language": "python",
   "name": "python3"
  },
  "language_info": {
   "codemirror_mode": {
    "name": "ipython",
    "version": 3
   },
   "file_extension": ".py",
   "mimetype": "text/x-python",
   "name": "python",
   "nbconvert_exporter": "python",
   "pygments_lexer": "ipython3",
   "version": "3.11.4"
  }
 },
 "nbformat": 4,
 "nbformat_minor": 5
}
